{
 "cells": [
  {
   "cell_type": "code",
   "execution_count": 1,
   "metadata": {
    "id": "RCn4BJdzT71p"
   },
   "outputs": [],
   "source": [
    "from keras.preprocessing.image import ImageDataGenerator\n",
    "from keras.models import Sequential\n",
    "from keras.layers import Conv2D, MaxPooling2D, Dense, Dropout, Flatten\n",
    "from keras.layers import MaxPooling2D"
   ]
  },
  {
   "cell_type": "code",
   "execution_count": 2,
   "metadata": {
    "id": "5s2zGnBhT71u"
   },
   "outputs": [],
   "source": [
    "from keras.preprocessing.image import ImageDataGenerator\n",
    "train_datagen = ImageDataGenerator(rescale = 1./255,\n",
    "                                   shear_range = 0.2,\n",
    "                                   zoom_range = 0.2,\n",
    "                                   horizontal_flip = True)\n",
    "\n",
    "test_datagen = ImageDataGenerator(rescale = 1./255)"
   ]
  },
  {
   "cell_type": "code",
   "execution_count": 3,
   "metadata": {
    "id": "8pFrmz5_T71w",
    "outputId": "59252efa-b3e9-4e3d-ec9c-1a06f074ff1d"
   },
   "outputs": [
    {
     "name": "stdout",
     "output_type": "stream",
     "text": [
      "Found 1284 images belonging to 2 classes.\n",
      "Found 320 images belonging to 2 classes.\n"
     ]
    }
   ],
   "source": [
    "x_train = train_datagen.flow_from_directory(r'C:\\Users\\gouth\\Desktop\\icebergdetection\\dataset\\train',target_size=(75,75),batch_size= 32, class_mode='binary')\n",
    "x_test = test_datagen.flow_from_directory(r'C:\\Users\\gouth\\Desktop\\icebergdetection\\dataset\\test',target_size=(75,75),batch_size= 32, class_mode='binary')"
   ]
  },
  {
   "cell_type": "code",
   "execution_count": 4,
   "metadata": {
    "id": "LQePcF08T711"
   },
   "outputs": [],
   "source": [
    "model=Sequential()"
   ]
  },
  {
   "cell_type": "code",
   "execution_count": 5,
   "metadata": {
    "id": "QrZ2VpxMT712"
   },
   "outputs": [],
   "source": [
    "model.add(Conv2D(64,(3,3), activation='relu', input_shape=(75,75,3)))"
   ]
  },
  {
   "cell_type": "code",
   "execution_count": 6,
   "metadata": {
    "id": "sgXvEj8HT714"
   },
   "outputs": [],
   "source": [
    "model.add(MaxPooling2D(pool_size=(3,3), strides=(2,2)))"
   ]
  },
  {
   "cell_type": "code",
   "execution_count": 7,
   "metadata": {
    "id": "PdIfPgLsT714"
   },
   "outputs": [],
   "source": [
    "model.add(Flatten())"
   ]
  },
  {
   "cell_type": "code",
   "execution_count": 8,
   "metadata": {
    "id": "tlBsDMBIT718"
   },
   "outputs": [],
   "source": [
    "model.add(Dense(units= 512, kernel_initializer=\"uniform\", activation=\"relu\"))\n",
    "model.add(Dense(units = 256, kernel_initializer=\"uniform\", activation=\"relu\"))\n",
    "model.add(Dense(units = 1, kernel_initializer=\"uniform\", activation=\"sigmoid\"))"
   ]
  },
  {
   "cell_type": "code",
   "execution_count": 9,
   "metadata": {
    "id": "-kxJrMjVT71-"
   },
   "outputs": [],
   "source": [
    "model.compile(loss=\"binary_crossentropy\",optimizer=\"adam\",metrics=[\"accuracy\"])"
   ]
  },
  {
   "cell_type": "code",
   "execution_count": 10,
   "metadata": {
    "id": "Ehrh80GcT72A",
    "outputId": "7d4e1298-0876-449f-d4cc-0d0b3dc7fc49"
   },
   "outputs": [
    {
     "name": "stderr",
     "output_type": "stream",
     "text": [
      "C:\\Users\\gouth\\AppData\\Local\\Temp\\ipykernel_21672\\2934396304.py:1: UserWarning: `Model.fit_generator` is deprecated and will be removed in a future version. Please use `Model.fit`, which supports generators.\n",
      "  model.fit_generator(x_train,steps_per_epoch=40, epochs= 10, validation_data=x_test, validation_steps=10)\n"
     ]
    },
    {
     "name": "stdout",
     "output_type": "stream",
     "text": [
      "Epoch 1/10\n",
      "40/40 [==============================] - 17s 387ms/step - loss: 0.7482 - accuracy: 0.5128 - val_loss: 0.6921 - val_accuracy: 0.5000\n",
      "Epoch 2/10\n",
      "40/40 [==============================] - 14s 361ms/step - loss: 0.6801 - accuracy: 0.5990 - val_loss: 0.6816 - val_accuracy: 0.5250\n",
      "Epoch 3/10\n",
      "40/40 [==============================] - 14s 359ms/step - loss: 0.6507 - accuracy: 0.6046 - val_loss: 0.5746 - val_accuracy: 0.6750\n",
      "Epoch 4/10\n",
      "40/40 [==============================] - 14s 360ms/step - loss: 0.6102 - accuracy: 0.6510 - val_loss: 0.5740 - val_accuracy: 0.7500\n",
      "Epoch 5/10\n",
      "40/40 [==============================] - 14s 360ms/step - loss: 0.5677 - accuracy: 0.6941 - val_loss: 0.5278 - val_accuracy: 0.7406\n",
      "Epoch 6/10\n",
      "40/40 [==============================] - 14s 360ms/step - loss: 0.5376 - accuracy: 0.7181 - val_loss: 0.4851 - val_accuracy: 0.7969\n",
      "Epoch 7/10\n",
      "40/40 [==============================] - 14s 361ms/step - loss: 0.5012 - accuracy: 0.7468 - val_loss: 0.4207 - val_accuracy: 0.8438\n",
      "Epoch 8/10\n",
      "40/40 [==============================] - 15s 363ms/step - loss: 0.4316 - accuracy: 0.7915 - val_loss: 0.3813 - val_accuracy: 0.8125\n",
      "Epoch 9/10\n",
      "40/40 [==============================] - 15s 372ms/step - loss: 0.4135 - accuracy: 0.8075 - val_loss: 0.4389 - val_accuracy: 0.7719\n",
      "Epoch 10/10\n",
      "40/40 [==============================] - 14s 363ms/step - loss: 0.4233 - accuracy: 0.7987 - val_loss: 0.3994 - val_accuracy: 0.8031\n"
     ]
    },
    {
     "data": {
      "text/plain": [
       "<keras.callbacks.History at 0x13a664eb100>"
      ]
     },
     "execution_count": 10,
     "metadata": {},
     "output_type": "execute_result"
    }
   ],
   "source": [
    "model.fit_generator(x_train,steps_per_epoch=40, epochs= 10, validation_data=x_test, validation_steps=10)"
   ]
  },
  {
   "cell_type": "code",
   "execution_count": 11,
   "metadata": {
    "id": "8cgjZLjpT72E"
   },
   "outputs": [],
   "source": [
    "model.save(\"iceberg.h5\")"
   ]
  },
  {
   "cell_type": "code",
   "execution_count": 12,
   "metadata": {
    "id": "daRfTB4_T72H",
    "outputId": "ca600400-2648-4486-f9c5-adb29a8004d3"
   },
   "outputs": [
    {
     "data": {
      "text/plain": [
       "'2.9.1'"
      ]
     },
     "execution_count": 12,
     "metadata": {},
     "output_type": "execute_result"
    }
   ],
   "source": [
    "import tensorflow\n",
    "tensorflow.__version__\n"
   ]
  },
  {
   "cell_type": "code",
   "execution_count": 13,
   "metadata": {
    "id": "yG9x24NRT72N",
    "outputId": "e3979524-061c-45e9-ba38-3af687ed975f"
   },
   "outputs": [
    {
     "data": {
      "text/plain": [
       "{'Iceberg': 0, 'Ship': 1}"
      ]
     },
     "execution_count": 13,
     "metadata": {},
     "output_type": "execute_result"
    }
   ],
   "source": [
    "x_train.class_indices"
   ]
  },
  {
   "cell_type": "code",
   "execution_count": null,
   "metadata": {
    "id": "jopSVtXIT72R"
   },
   "outputs": [],
   "source": []
  },
  {
   "cell_type": "code",
   "execution_count": null,
   "metadata": {},
   "outputs": [],
   "source": []
  },
  {
   "cell_type": "code",
   "execution_count": null,
   "metadata": {},
   "outputs": [],
   "source": []
  },
  {
   "cell_type": "code",
   "execution_count": null,
   "metadata": {},
   "outputs": [],
   "source": []
  }
 ],
 "metadata": {
  "colab": {
   "name": "Train.ipynb",
   "provenance": []
  },
  "kernelspec": {
   "display_name": "Python 3 (ipykernel)",
   "language": "python",
   "name": "python3"
  },
  "language_info": {
   "codemirror_mode": {
    "name": "ipython",
    "version": 3
   },
   "file_extension": ".py",
   "mimetype": "text/x-python",
   "name": "python",
   "nbconvert_exporter": "python",
   "pygments_lexer": "ipython3",
   "version": "3.9.12"
  }
 },
 "nbformat": 4,
 "nbformat_minor": 1
}
